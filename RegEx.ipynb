{
  "nbformat": 4,
  "nbformat_minor": 0,
  "metadata": {
    "colab": {
      "name": "RegEx.ipynb",
      "provenance": [],
      "mount_file_id": "1xiwzcTq1TlZsH4oajxHB0BogvhIN_BTy",
      "authorship_tag": "ABX9TyNV+ie4PDc6qqULHirQksvU",
      "include_colab_link": true
    },
    "kernelspec": {
      "name": "python3",
      "display_name": "Python 3"
    },
    "language_info": {
      "name": "python"
    }
  },
  "cells": [
    {
      "cell_type": "markdown",
      "metadata": {
        "id": "view-in-github",
        "colab_type": "text"
      },
      "source": [
        "<a href=\"https://colab.research.google.com/github/HusenKwt/profile/blob/main/RegEx.ipynb\" target=\"_parent\"><img src=\"https://colab.research.google.com/assets/colab-badge.svg\" alt=\"Open In Colab\"/></a>"
      ]
    },
    {
      "cell_type": "code",
      "source": [
        "import re"
      ],
      "metadata": {
        "id": "OkiBrvSEBCdi"
      },
      "execution_count": 159,
      "outputs": []
    },
    {
      "cell_type": "markdown",
      "source": [
        "  \n",
        "Function\tDescription\n",
        "\n",
        "findall\t: Returns a list containing all matches\n",
        "\n",
        "search : \tReturns a Match object if there is a match anywhere in the string\n",
        "\n",
        "split\t: Returns a list where the string has been split at each match\n",
        "\n",
        "**sub\t: Replaces one or many matches with a string**\n",
        "\n",
        "# findall() : The findall() function returns a list containing all matches."
      ],
      "metadata": {
        "id": "eOTRj45SBHUh"
      }
    },
    {
      "cell_type": "code",
      "source": [
        "s = 'we will learn the basics of regular expressions in Python'\n",
        "x = re.findall('il', s)\n",
        "x"
      ],
      "metadata": {
        "colab": {
          "base_uri": "https://localhost:8080/"
        },
        "id": "EEd7Z92ABKfB",
        "outputId": "e33c4c84-8d02-45e4-a007-1b8805b11a80"
      },
      "execution_count": 160,
      "outputs": [
        {
          "output_type": "execute_result",
          "data": {
            "text/plain": [
              "['il']"
            ]
          },
          "metadata": {},
          "execution_count": 160
        }
      ]
    },
    {
      "cell_type": "code",
      "source": [
        "y = re.findall('on', s)\n",
        "y"
      ],
      "metadata": {
        "colab": {
          "base_uri": "https://localhost:8080/"
        },
        "id": "Y4dlnUrhBnma",
        "outputId": "ae416e9e-2f0e-44fa-cdf8-c5efaace88bc"
      },
      "execution_count": 161,
      "outputs": [
        {
          "output_type": "execute_result",
          "data": {
            "text/plain": [
              "['on', 'on']"
            ]
          },
          "metadata": {},
          "execution_count": 161
        }
      ]
    },
    {
      "cell_type": "code",
      "source": [
        "s.count('s')"
      ],
      "metadata": {
        "colab": {
          "base_uri": "https://localhost:8080/"
        },
        "id": "1hNkGnsNBysa",
        "outputId": "1ee0fd67-8006-4edd-c320-d0b96931ae67"
      },
      "execution_count": 162,
      "outputs": [
        {
          "output_type": "execute_result",
          "data": {
            "text/plain": [
              "5"
            ]
          },
          "metadata": {},
          "execution_count": 162
        }
      ]
    },
    {
      "cell_type": "markdown",
      "source": [
        "# Search : If the search is successful, search() returns a match object start index"
      ],
      "metadata": {
        "id": "DYAwPX-eCGw5"
      }
    },
    {
      "cell_type": "code",
      "source": [
        "z = re.search('n t', s)\n",
        "z"
      ],
      "metadata": {
        "colab": {
          "base_uri": "https://localhost:8080/"
        },
        "id": "nF1Iu7zCCJmS",
        "outputId": "b520b5d6-4f3f-4b84-aa84-e21489370972"
      },
      "execution_count": 163,
      "outputs": [
        {
          "output_type": "execute_result",
          "data": {
            "text/plain": [
              "<re.Match object; span=(12, 15), match='n t'>"
            ]
          },
          "metadata": {},
          "execution_count": 163
        }
      ]
    },
    {
      "cell_type": "code",
      "source": [
        "z.start()"
      ],
      "metadata": {
        "colab": {
          "base_uri": "https://localhost:8080/"
        },
        "id": "Lj5azJ0cCfHi",
        "outputId": "3f041cbf-2a4d-4528-c749-2a76ad24a872"
      },
      "execution_count": 164,
      "outputs": [
        {
          "output_type": "execute_result",
          "data": {
            "text/plain": [
              "12"
            ]
          },
          "metadata": {},
          "execution_count": 164
        }
      ]
    },
    {
      "cell_type": "markdown",
      "source": [
        "# split() : The split() function returns a list that shows where the string has been split at each match."
      ],
      "metadata": {
        "id": "aLYISImACs9N"
      }
    },
    {
      "cell_type": "code",
      "source": [
        "a = re.split(' ', s)\n",
        "a"
      ],
      "metadata": {
        "colab": {
          "base_uri": "https://localhost:8080/"
        },
        "id": "19LxSWSICwVL",
        "outputId": "96091f30-b25b-465a-e302-49d606939ece"
      },
      "execution_count": 165,
      "outputs": [
        {
          "output_type": "execute_result",
          "data": {
            "text/plain": [
              "['we',\n",
              " 'will',\n",
              " 'learn',\n",
              " 'the',\n",
              " 'basics',\n",
              " 'of',\n",
              " 'regular',\n",
              " 'expressions',\n",
              " 'in',\n",
              " 'Python']"
            ]
          },
          "metadata": {},
          "execution_count": 165
        }
      ]
    },
    {
      "cell_type": "markdown",
      "source": [
        "# The sub() Function\n",
        "**The sub() function replaces the matches with the text of your choice:**"
      ],
      "metadata": {
        "id": "4yq5Tw_UgFVq"
      }
    },
    {
      "cell_type": "code",
      "source": [
        "var = 'Each special sequence makes specific common patterns more comfortable to use.'\n",
        "x = re.sub('\\s', '-', var)\n",
        "x"
      ],
      "metadata": {
        "colab": {
          "base_uri": "https://localhost:8080/",
          "height": 35
        },
        "id": "5a7BoZ4bgEyi",
        "outputId": "fdf01241-9cbd-4bb1-cad3-86d792af2c8e"
      },
      "execution_count": 166,
      "outputs": [
        {
          "output_type": "execute_result",
          "data": {
            "text/plain": [
              "'Each-special-sequence-makes-specific-common-patterns-more-comfortable-to-use.'"
            ],
            "application/vnd.google.colaboratory.intrinsic+json": {
              "type": "string"
            }
          },
          "metadata": {},
          "execution_count": 166
        }
      ]
    },
    {
      "cell_type": "code",
      "source": [
        "var = 'Each special sequence makes specific common patterns more comfortable to use.'\n",
        "x = re.sub('\\s', '-', var, 5) #only first 5 occurances\n",
        "x"
      ],
      "metadata": {
        "colab": {
          "base_uri": "https://localhost:8080/",
          "height": 35
        },
        "id": "OBFaHVe6hcMa",
        "outputId": "57684d1e-b804-4351-9a6d-3a8e18a763ee"
      },
      "execution_count": 167,
      "outputs": [
        {
          "output_type": "execute_result",
          "data": {
            "text/plain": [
              "'Each-special-sequence-makes-specific-common patterns more comfortable to use.'"
            ],
            "application/vnd.google.colaboratory.intrinsic+json": {
              "type": "string"
            }
          },
          "metadata": {},
          "execution_count": 167
        }
      ]
    },
    {
      "cell_type": "markdown",
      "source": [
        "# **Python RegEx: Metacharacters**\n",
        "\n",
        "\n",
        "Meta Character\t    Description     \t          Example        \n",
        "\n",
        "\\d :      \twhole numbers( 0-9 )(single digit)\t \\d = 7,  \\d\\d=77\n",
        "\n",
        "\\w :\t     alphanumeric character\t               \\w\\w\\w\\w = geek\n",
        "                                                 \\w\\w\\w =! geek\n",
        "\n",
        "  \"\"*\"\" :          \t0 or more characters   \ts*  = _,s,ss,sss,ssss…..\n",
        "\n",
        "  '+' :         \t1 or more characters\t    s+ = s,ss,sss,ssss…..\n",
        "\n",
        "  '?' :         \t0 or 1 character        \ts?  = _ or s\n",
        "\n",
        "  {m} :         \toccurs “m” times\t       sd{3} = sddd\n",
        "\n",
        "  {m,n} :       \tmin “m” and max “n” times\t     sd{2,3}=sdd or sddd\n",
        "\n",
        " \\W  :            \tsymbols                   \t\\W = %\n",
        "\n",
        "  [a-z]  or [0-9]\t:    character set\t           geek[sy] = geeky\n",
        "                                               geek[sy] != geeki\n",
        "\n",
        "\n",
        "**The ^ character checks if the string starts with a particular word or character.**\n"
      ],
      "metadata": {
        "id": "goHvUh25DoEK"
      }
    },
    {
      "cell_type": "code",
      "source": [
        "b = re.findall('^we', s)\n",
        "if b:\n",
        "  print(True)\n",
        "else:\n",
        "  print(False)"
      ],
      "metadata": {
        "colab": {
          "base_uri": "https://localhost:8080/"
        },
        "id": "6EOdCKtyEDhT",
        "outputId": "87a4c7e6-14b4-4846-c08d-9974dabe7a4c"
      },
      "execution_count": 168,
      "outputs": [
        {
          "output_type": "stream",
          "name": "stdout",
          "text": [
            "True\n"
          ]
        }
      ]
    },
    {
      "cell_type": "code",
      "source": [
        "b = re.findall('^n t', s[12:])\n",
        "if b:\n",
        "  print(True)\n",
        "else:\n",
        "  print(False)"
      ],
      "metadata": {
        "colab": {
          "base_uri": "https://localhost:8080/"
        },
        "id": "gomllzdkE58z",
        "outputId": "0e4a0b19-458c-46eb-8ff0-2bf6a326becd"
      },
      "execution_count": 169,
      "outputs": [
        {
          "output_type": "stream",
          "name": "stdout",
          "text": [
            "True\n"
          ]
        }
      ]
    },
    {
      "cell_type": "markdown",
      "source": [
        "**The ‘$‘ character checks if the string ends with a particular word or character.**"
      ],
      "metadata": {
        "id": "ue5G8fY9FKmJ"
      }
    },
    {
      "cell_type": "code",
      "source": [
        "b = re.findall(\"Python$\", s)\n",
        "if b:\n",
        "  print(True)\n",
        "else:\n",
        "  print(False)\n"
      ],
      "metadata": {
        "colab": {
          "base_uri": "https://localhost:8080/"
        },
        "id": "UovKeKlFFc34",
        "outputId": "9bc85a55-557e-4f9f-838d-b08ff0d10233"
      },
      "execution_count": 170,
      "outputs": [
        {
          "output_type": "stream",
          "name": "stdout",
          "text": [
            "True\n"
          ]
        }
      ]
    },
    {
      "cell_type": "code",
      "source": [
        "b = re.findall('n$', s[12:])\n",
        "if b:\n",
        "  print(True)\n",
        "else:\n",
        "  print(False)"
      ],
      "metadata": {
        "colab": {
          "base_uri": "https://localhost:8080/"
        },
        "id": "6rkUJz6iGN2z",
        "outputId": "aba51a30-01b9-4ceb-b62f-1a3fdb4b8716"
      },
      "execution_count": 171,
      "outputs": [
        {
          "output_type": "stream",
          "name": "stdout",
          "text": [
            "True\n"
          ]
        }
      ]
    },
    {
      "cell_type": "markdown",
      "source": [
        "**The ‘ | ‘ character is used to check either/or condition.**"
      ],
      "metadata": {
        "id": "F-FM6eC-GYCq"
      }
    },
    {
      "cell_type": "code",
      "source": [
        "c = re.findall('of|in', s)\n",
        "print(c)\n",
        "if c:\n",
        "  print('At least one match')\n",
        "else:\n",
        "  print('No match')"
      ],
      "metadata": {
        "colab": {
          "base_uri": "https://localhost:8080/"
        },
        "id": "R-TRw9yUGT5S",
        "outputId": "19d9a072-cd52-42e6-f561-56d99b18fd4c"
      },
      "execution_count": 172,
      "outputs": [
        {
          "output_type": "stream",
          "name": "stdout",
          "text": [
            "['of', 'in']\n",
            "At least one match\n"
          ]
        }
      ]
    },
    {
      "cell_type": "code",
      "source": [
        "c = re.findall('the|are', s)\n",
        "print(c)\n",
        "if c:\n",
        "  print('At least one match')\n",
        "else:\n",
        "  print('No match')"
      ],
      "metadata": {
        "colab": {
          "base_uri": "https://localhost:8080/"
        },
        "id": "CioTgRatG-xa",
        "outputId": "c9e4e44b-354b-466b-8b4a-39658d97e4bf"
      },
      "execution_count": 173,
      "outputs": [
        {
          "output_type": "stream",
          "name": "stdout",
          "text": [
            "['the']\n",
            "At least one match\n"
          ]
        }
      ]
    },
    {
      "cell_type": "code",
      "source": [
        "c = re.findall('am|is', s)\n",
        "print(c)\n",
        "if c:\n",
        "  print('At least one match')\n",
        "else:\n",
        "  print('No match')"
      ],
      "metadata": {
        "colab": {
          "base_uri": "https://localhost:8080/"
        },
        "id": "Q3hSCkCuHHFK",
        "outputId": "9608ec9d-28ed-4d38-aba1-7d6bb6d0a604"
      },
      "execution_count": 174,
      "outputs": [
        {
          "output_type": "stream",
          "name": "stdout",
          "text": [
            "[]\n",
            "No match\n"
          ]
        }
      ]
    },
    {
      "cell_type": "markdown",
      "source": [
        "**“+” This matches one or more occurrences of a character in a string.**"
      ],
      "metadata": {
        "id": "DS1T-NbJIBsR"
      }
    },
    {
      "cell_type": "code",
      "source": [
        "d = re.findall('si+', s)\n",
        "print(d)\n",
        "if d:\n",
        "  print('At least one match')\n",
        "else:\n",
        "  print('No match')"
      ],
      "metadata": {
        "colab": {
          "base_uri": "https://localhost:8080/"
        },
        "id": "fUzBUFc4IJg5",
        "outputId": "603d1a15-3aa0-4949-be28-d16d4b4ae561"
      },
      "execution_count": 175,
      "outputs": [
        {
          "output_type": "stream",
          "name": "stdout",
          "text": [
            "['si', 'si']\n",
            "At least one match\n"
          ]
        }
      ]
    },
    {
      "cell_type": "code",
      "source": [
        "d = re.findall('sio+', s)\n",
        "print(d)\n",
        "if d:\n",
        "  print('At least one match')\n",
        "else:\n",
        "  print('No match')"
      ],
      "metadata": {
        "colab": {
          "base_uri": "https://localhost:8080/"
        },
        "id": "zIxlfcNvKYr7",
        "outputId": "152b2cbd-b33c-4129-ef3f-2c1280c5e7f5"
      },
      "execution_count": 176,
      "outputs": [
        {
          "output_type": "stream",
          "name": "stdout",
          "text": [
            "['sio']\n",
            "At least one match\n"
          ]
        }
      ]
    },
    {
      "cell_type": "code",
      "source": [
        "d = re.findall('pi+', s)\n",
        "print(d)\n",
        "if d:\n",
        "  print('At least one match')\n",
        "else:\n",
        "  print('No match')"
      ],
      "metadata": {
        "colab": {
          "base_uri": "https://localhost:8080/"
        },
        "id": "zLq6DWE_Kevp",
        "outputId": "fd6a8e26-4342-4df0-e959-8bc73ee03389"
      },
      "execution_count": 177,
      "outputs": [
        {
          "output_type": "stream",
          "name": "stdout",
          "text": [
            "[]\n",
            "No match\n"
          ]
        }
      ]
    },
    {
      "cell_type": "markdown",
      "source": [
        "**“*” This returns the zero or more occurrences of a character in a string.**"
      ],
      "metadata": {
        "id": "KjbSj7XoKj4S"
      }
    },
    {
      "cell_type": "code",
      "source": [
        "e = re.findall('thi*', s)\n",
        "print(e)\n",
        "if e:\n",
        "  print('At least one match')\n",
        "else:\n",
        "  print('No match')"
      ],
      "metadata": {
        "colab": {
          "base_uri": "https://localhost:8080/"
        },
        "id": "SlIR-oloKiw5",
        "outputId": "bee51ebd-91b6-450c-f718-9a3eec62fe9b"
      },
      "execution_count": 178,
      "outputs": [
        {
          "output_type": "stream",
          "name": "stdout",
          "text": [
            "['th', 'th']\n",
            "At least one match\n"
          ]
        }
      ]
    },
    {
      "cell_type": "code",
      "source": [
        "f = re.findall('loc*', s)\n",
        "print(f)\n",
        "if f:\n",
        "  print('At least one match')\n",
        "else:\n",
        "  print('No match')"
      ],
      "metadata": {
        "colab": {
          "base_uri": "https://localhost:8080/"
        },
        "id": "V6PiAnNsK-7S",
        "outputId": "2d5e27c2-33ca-49e0-cbb0-9c35b6e10248"
      },
      "execution_count": 179,
      "outputs": [
        {
          "output_type": "stream",
          "name": "stdout",
          "text": [
            "[]\n",
            "No match\n"
          ]
        }
      ]
    },
    {
      "cell_type": "code",
      "source": [
        "g = re.findall('lo*', s)\n",
        "print(g)\n",
        "if g:\n",
        "  print('At least one match')\n",
        "else:\n",
        "  print('No match')"
      ],
      "metadata": {
        "colab": {
          "base_uri": "https://localhost:8080/"
        },
        "id": "SQt9x0W2LY5g",
        "outputId": "4001e9af-f62d-45b4-d95a-6616aa212bae"
      },
      "execution_count": 180,
      "outputs": [
        {
          "output_type": "stream",
          "name": "stdout",
          "text": [
            "['l', 'l', 'l', 'l']\n",
            "At least one match\n"
          ]
        }
      ]
    },
    {
      "cell_type": "code",
      "source": [
        "f = re.findall('python*', s)\n",
        "print(f)\n",
        "if f:\n",
        "  print('At least one match')\n",
        "else:\n",
        "  print('No match')"
      ],
      "metadata": {
        "colab": {
          "base_uri": "https://localhost:8080/"
        },
        "id": "BBAC5bHZQKQa",
        "outputId": "e7736482-cc5f-4c0f-b323-8c9c9f097392"
      },
      "execution_count": 181,
      "outputs": [
        {
          "output_type": "stream",
          "name": "stdout",
          "text": [
            "[]\n",
            "No match\n"
          ]
        }
      ]
    },
    {
      "cell_type": "code",
      "source": [
        "f = re.findall('Python*', s)\n",
        "print(f)\n",
        "if f:\n",
        "  print('At least one match')\n",
        "else:\n",
        "  print('No match')"
      ],
      "metadata": {
        "colab": {
          "base_uri": "https://localhost:8080/"
        },
        "id": "P9JbAQPWQORi",
        "outputId": "90e28646-2f09-4f22-b7b0-7ad420182d82"
      },
      "execution_count": 182,
      "outputs": [
        {
          "output_type": "stream",
          "name": "stdout",
          "text": [
            "['Python']\n",
            "At least one match\n"
          ]
        }
      ]
    },
    {
      "cell_type": "code",
      "source": [
        "f = re.findall('learn*', s)\n",
        "print(f)\n",
        "if f:\n",
        "  print('At least one match')\n",
        "else:\n",
        "  print('No match')"
      ],
      "metadata": {
        "colab": {
          "base_uri": "https://localhost:8080/"
        },
        "id": "rJqw15laQdtC",
        "outputId": "fc2045bf-d35b-4eb7-a327-559ce4847df4"
      },
      "execution_count": 183,
      "outputs": [
        {
          "output_type": "stream",
          "name": "stdout",
          "text": [
            "['learn']\n",
            "At least one match\n"
          ]
        }
      ]
    },
    {
      "cell_type": "markdown",
      "source": [
        "{ } : Matches exactly the specified number of occurrences (=)\n",
        "\n",
        "  '*' : Matches zero or more occurrences (-1)\n",
        "\n",
        "  '+' : Matches one or more occurrences (+1)\n",
        "\n",
        "[ ] : Matches a set of characters (+/-)"
      ],
      "metadata": {
        "id": "4W0ooHmoQxIZ"
      }
    },
    {
      "cell_type": "markdown",
      "source": [
        "# **Python RegEx - Special sequences**\n",
        "\n",
        "\\A : This checks if the string starts with a particular character.\n",
        "\n",
        "\\s : The \\s sequence returns a match when the string contains white space characters.\n",
        "\n",
        "\\d : The \\d sequence checks if there are any digits in the given string.\n",
        "\n",
        "\\Z : The \\Z sequence checks if the string ends with a particular word.\n",
        "\n",
        "\\w : The \\w sequence returns a match at every word character.\n",
        "\n",
        "\\A\tReturns a match if the specified characters are at the beginning of the string\t\"\\AThe\"\t\n",
        "\n",
        "\n",
        "\\b\tReturns a match where the specified characters are at the beginning or at the end of a word\tr\"\\bain\"\n",
        "                  r\"ain\\b\"\t\n",
        "\n",
        "\n",
        "\\B\tReturns a match where the specified characters are present, but NOT at the beginning (or at the end) of a word\tr\"\\Bain\"\n",
        "                                    r\"ain\\B\"\t\n",
        "\n",
        "\n",
        "\\d\tReturns a match where the string contains digits (numbers from 0-9)\t\"\\d\"\n",
        "\n",
        "\\D\tReturns a match where the string DOES NOT contain digits\t\"\\D\"\t\n",
        "\n",
        "\\s\tReturns a match where the string contains a white space character\t\"\\s\"\t\n",
        "\n",
        "\\S\tReturns a match where the string DOES NOT contain a white space character\t\"\\S\"\t\n",
        "\n",
        "\\w\tReturns a match where the string contains any word characters (characters from a to Z, digits from 0-9, and the underscore _ character)\t\"\\w\"\t\n",
        "\n",
        "\\W\tReturns a match where the string DOES NOT contain any word characters\t\"\\W\"\n",
        "\t\n",
        "\\Z\tReturns a match if the specified characters are at the end of the string\t\"Spain\\Z\""
      ],
      "metadata": {
        "id": "Orz0r_gPR_cp"
      }
    },
    {
      "cell_type": "code",
      "source": [
        "S = 'Twitter confirms sale of company to Elon Musk for $44 bn'\n",
        "x = re.findall('\\ATwitter', S)\n",
        "def check(x):\n",
        "  print(f'x:{x}')\n",
        "  if x:\n",
        "    print(True)\n",
        "  else:\n",
        "    print(False)\n",
        "\n",
        "\n",
        "check(x)"
      ],
      "metadata": {
        "colab": {
          "base_uri": "https://localhost:8080/"
        },
        "id": "CMgBB4BNSORC",
        "outputId": "c8d368a7-1c47-4aa1-cb4a-9c452f28508b"
      },
      "execution_count": 184,
      "outputs": [
        {
          "output_type": "stream",
          "name": "stdout",
          "text": [
            "x:['Twitter']\n",
            "True\n"
          ]
        }
      ]
    },
    {
      "cell_type": "code",
      "source": [
        "x = re.findall('\\Atwitter', S)\n",
        "check(x)"
      ],
      "metadata": {
        "colab": {
          "base_uri": "https://localhost:8080/"
        },
        "id": "RqA7kH1fT-pR",
        "outputId": "7029e0b8-3770-4217-cf26-c635b43a229f"
      },
      "execution_count": 185,
      "outputs": [
        {
          "output_type": "stream",
          "name": "stdout",
          "text": [
            "x:[]\n",
            "False\n"
          ]
        }
      ]
    },
    {
      "cell_type": "code",
      "source": [
        "x = re.findall('\\s', S)\n",
        "check(x)"
      ],
      "metadata": {
        "colab": {
          "base_uri": "https://localhost:8080/"
        },
        "id": "jByk_HhNUZoo",
        "outputId": "984540c6-8a9f-4ccd-d19f-51ccf69d72b3"
      },
      "execution_count": 186,
      "outputs": [
        {
          "output_type": "stream",
          "name": "stdout",
          "text": [
            "x:[' ', ' ', ' ', ' ', ' ', ' ', ' ', ' ', ' ', ' ']\n",
            "True\n"
          ]
        }
      ]
    },
    {
      "cell_type": "code",
      "source": [
        "x = re.findall('\\s', 'Python')\n",
        "check(x)"
      ],
      "metadata": {
        "colab": {
          "base_uri": "https://localhost:8080/"
        },
        "id": "rnoaTyhxUiJh",
        "outputId": "5f82a30a-d112-4b11-b350-a3f5547b4f71"
      },
      "execution_count": 187,
      "outputs": [
        {
          "output_type": "stream",
          "name": "stdout",
          "text": [
            "x:[]\n",
            "False\n"
          ]
        }
      ]
    },
    {
      "cell_type": "code",
      "source": [
        "x = re.findall('\\d', S)\n",
        "check(x)"
      ],
      "metadata": {
        "colab": {
          "base_uri": "https://localhost:8080/"
        },
        "id": "Wn5mQGdXUqP4",
        "outputId": "713e3ec8-987b-4a67-a7ee-ca8389fbfe7b"
      },
      "execution_count": 188,
      "outputs": [
        {
          "output_type": "stream",
          "name": "stdout",
          "text": [
            "x:['4', '4']\n",
            "True\n"
          ]
        }
      ]
    },
    {
      "cell_type": "code",
      "source": [
        "x = re.findall('\\d', s)\n",
        "check(x)"
      ],
      "metadata": {
        "colab": {
          "base_uri": "https://localhost:8080/"
        },
        "id": "fFuAF-5zU8tO",
        "outputId": "1778dcf1-51d3-4aac-8cec-f3a550d55e1c"
      },
      "execution_count": 189,
      "outputs": [
        {
          "output_type": "stream",
          "name": "stdout",
          "text": [
            "x:[]\n",
            "False\n"
          ]
        }
      ]
    },
    {
      "cell_type": "code",
      "source": [
        "x = re.findall('\\d', 'windowds11homeEdition')\n",
        "check(x)"
      ],
      "metadata": {
        "colab": {
          "base_uri": "https://localhost:8080/"
        },
        "id": "nyw0gZ-1VC6w",
        "outputId": "1ce9031c-a400-4e86-e5fa-da410abbc301"
      },
      "execution_count": 190,
      "outputs": [
        {
          "output_type": "stream",
          "name": "stdout",
          "text": [
            "x:['1', '1']\n",
            "True\n"
          ]
        }
      ]
    },
    {
      "cell_type": "code",
      "source": [
        "x = re.findall('Python\\Z', s)\n",
        "check(x)"
      ],
      "metadata": {
        "colab": {
          "base_uri": "https://localhost:8080/"
        },
        "id": "EJqr7y1GVVbh",
        "outputId": "b2ba60c8-4eb6-4bda-9c54-78b2e6b975c6"
      },
      "execution_count": 191,
      "outputs": [
        {
          "output_type": "stream",
          "name": "stdout",
          "text": [
            "x:['Python']\n",
            "True\n"
          ]
        }
      ]
    },
    {
      "cell_type": "code",
      "source": [
        "x = re.findall('n\\Z', S)\n",
        "check(x)"
      ],
      "metadata": {
        "colab": {
          "base_uri": "https://localhost:8080/"
        },
        "id": "NVOVZ_baV3Gq",
        "outputId": "0a1b2a5c-caf9-43d9-f27f-17de01b23316"
      },
      "execution_count": 192,
      "outputs": [
        {
          "output_type": "stream",
          "name": "stdout",
          "text": [
            "x:['n']\n",
            "True\n"
          ]
        }
      ]
    },
    {
      "cell_type": "code",
      "source": [
        "x = re.findall(' bn\\Z', S)\n",
        "check(x)"
      ],
      "metadata": {
        "colab": {
          "base_uri": "https://localhost:8080/"
        },
        "id": "0BYlQmKYWBqw",
        "outputId": "12efe1dc-6a41-4b20-b297-7839bedc112f"
      },
      "execution_count": 193,
      "outputs": [
        {
          "output_type": "stream",
          "name": "stdout",
          "text": [
            "x:[' bn']\n",
            "True\n"
          ]
        }
      ]
    },
    {
      "cell_type": "code",
      "source": [
        "x = re.findall('bn\\Z', S)\n",
        "check(x)"
      ],
      "metadata": {
        "colab": {
          "base_uri": "https://localhost:8080/"
        },
        "id": "03pNjjCXWLBC",
        "outputId": "cdf2dbaa-805d-48f8-c3c2-028d43ab05a8"
      },
      "execution_count": 194,
      "outputs": [
        {
          "output_type": "stream",
          "name": "stdout",
          "text": [
            "x:['bn']\n",
            "True\n"
          ]
        }
      ]
    },
    {
      "cell_type": "code",
      "source": [
        "a = 'Huseni'\n",
        "x = re.findall('\\w', a)\n",
        "check(x)"
      ],
      "metadata": {
        "colab": {
          "base_uri": "https://localhost:8080/"
        },
        "id": "eXzy7vWwW4D5",
        "outputId": "1cb6d34c-47e8-488b-b61f-4f1cbc4df93f"
      },
      "execution_count": 195,
      "outputs": [
        {
          "output_type": "stream",
          "name": "stdout",
          "text": [
            "x:['H', 'u', 's', 'e', 'n', 'i']\n",
            "True\n"
          ]
        }
      ]
    },
    {
      "cell_type": "code",
      "source": [
        "a = a[::-1]\n",
        "x = re.findall('\\w', a)\n",
        "check(x)"
      ],
      "metadata": {
        "colab": {
          "base_uri": "https://localhost:8080/"
        },
        "id": "dVMnH0XKXs1J",
        "outputId": "bd7fbf49-fa75-4d97-8394-aaacc3f42163"
      },
      "execution_count": 196,
      "outputs": [
        {
          "output_type": "stream",
          "name": "stdout",
          "text": [
            "x:['i', 'n', 'e', 's', 'u', 'H']\n",
            "True\n"
          ]
        }
      ]
    },
    {
      "cell_type": "markdown",
      "source": [
        "# **Python RegEx - Sets**\n",
        "\n",
        "[ agh ] : Returns a match when any of the mentioned characters is present\n",
        "\n",
        "[ a-h ] : Returns a match for lower case characters between a and h\n",
        "\n",
        "[ ^agh ] : Returns a match for every character except a,g,and h"
      ],
      "metadata": {
        "id": "tnJy5ETRarDo"
      }
    },
    {
      "cell_type": "code",
      "source": [
        "string = 'Python is good!'\n",
        "\n",
        "x = re.findall('[agh]', string)\n",
        "\n",
        "check(x)"
      ],
      "metadata": {
        "colab": {
          "base_uri": "https://localhost:8080/"
        },
        "id": "TsOjkQY5bAG6",
        "outputId": "cc2eed79-b3bd-4b87-9cc7-68e07f8af80b"
      },
      "execution_count": 197,
      "outputs": [
        {
          "output_type": "stream",
          "name": "stdout",
          "text": [
            "x:['h', 'g']\n",
            "True\n"
          ]
        }
      ]
    },
    {
      "cell_type": "code",
      "source": [
        "x = re.findall('[a-h]', string)\n",
        "\n",
        "check(x)"
      ],
      "metadata": {
        "colab": {
          "base_uri": "https://localhost:8080/"
        },
        "id": "B6acxrxVbk3g",
        "outputId": "0d21f76a-cdc6-4d5b-b879-9ffd56d221e7"
      },
      "execution_count": 198,
      "outputs": [
        {
          "output_type": "stream",
          "name": "stdout",
          "text": [
            "x:['h', 'g', 'd']\n",
            "True\n"
          ]
        }
      ]
    },
    {
      "cell_type": "code",
      "source": [
        "x = re.findall('[^agh]', string)\n",
        "\n",
        "check(x)"
      ],
      "metadata": {
        "colab": {
          "base_uri": "https://localhost:8080/"
        },
        "id": "lU2ggLlBbqcQ",
        "outputId": "b6c5c0ee-8adc-42f6-9034-a4cda08a5268"
      },
      "execution_count": 199,
      "outputs": [
        {
          "output_type": "stream",
          "name": "stdout",
          "text": [
            "x:['P', 'y', 't', 'o', 'n', ' ', 'i', 's', ' ', 'o', 'o', 'd', '!']\n",
            "True\n"
          ]
        }
      ]
    },
    {
      "cell_type": "markdown",
      "source": [
        "# **Python RegEx - Sets**\n",
        "\n",
        "[arn]\tReturns a match where one of the specified characters (a, r, or n) are present\t\n",
        "\n",
        "[a-n]\tReturns a match for any lower case character, alphabetically between a and n\t\n",
        "\n",
        "[^arn]\tReturns a match for any character EXCEPT a, r, and n\t\n",
        "\n",
        "[0123]\tReturns a match where any of the specified digits (0, 1, 2, or 3) are present\t\n",
        "\n",
        "[0-9]\tReturns a match for any digit between 0 and 9\t\n",
        "\n",
        "[0-5][0-9]\tReturns a match for any two-digit numbers from 00 and 59\t\n",
        "\n",
        "[a-zA-Z]\tReturns a match for any character alphabetically between a and z, lower case OR upper case\t\n",
        "\n",
        "[+]\tIn sets, +, *, ., |, (), $,{} has no special meaning, so [+] means: return a match for any + character in the string"
      ],
      "metadata": {
        "id": "V9bE7rjNb87A"
      }
    },
    {
      "cell_type": "code",
      "source": [
        "x = re.findall('[234]', S)\n",
        "\n",
        "check(x)"
      ],
      "metadata": {
        "colab": {
          "base_uri": "https://localhost:8080/"
        },
        "id": "yUtP8-lyb8Tp",
        "outputId": "9236fffc-5f98-4a0b-bd4e-51177152a380"
      },
      "execution_count": 200,
      "outputs": [
        {
          "output_type": "stream",
          "name": "stdout",
          "text": [
            "x:['4', '4']\n",
            "True\n"
          ]
        }
      ]
    },
    {
      "cell_type": "code",
      "source": [
        "x = re.findall('[234]', s)\n",
        "\n",
        "check(x)"
      ],
      "metadata": {
        "colab": {
          "base_uri": "https://localhost:8080/"
        },
        "id": "_uh8pxGPiz35",
        "outputId": "4466a5b1-174b-4b40-ba1e-5de715ba35f9"
      },
      "execution_count": 201,
      "outputs": [
        {
          "output_type": "stream",
          "name": "stdout",
          "text": [
            "x:[]\n",
            "False\n"
          ]
        }
      ]
    },
    {
      "cell_type": "code",
      "source": [
        "x = re.findall('[0-5][0-5]', S)\n",
        "\n",
        "check(x)"
      ],
      "metadata": {
        "colab": {
          "base_uri": "https://localhost:8080/"
        },
        "id": "6k9iboIyi4On",
        "outputId": "a8f49f1b-4eba-4770-83d9-2ef06e539c42"
      },
      "execution_count": 202,
      "outputs": [
        {
          "output_type": "stream",
          "name": "stdout",
          "text": [
            "x:['44']\n",
            "True\n"
          ]
        }
      ]
    },
    {
      "cell_type": "code",
      "source": [
        "x = re.findall('[0-5]', S)\n",
        "\n",
        "check(x)"
      ],
      "metadata": {
        "colab": {
          "base_uri": "https://localhost:8080/"
        },
        "id": "U0B3bd6ejQV6",
        "outputId": "6694df71-aa30-4f18-a877-c7df8a2ba759"
      },
      "execution_count": 203,
      "outputs": [
        {
          "output_type": "stream",
          "name": "stdout",
          "text": [
            "x:['4', '4']\n",
            "True\n"
          ]
        }
      ]
    },
    {
      "cell_type": "code",
      "source": [
        "x = re.findall('[a-cP-Z]', S)\n",
        "check(x)"
      ],
      "metadata": {
        "colab": {
          "base_uri": "https://localhost:8080/"
        },
        "id": "EEut9XnyjcoA",
        "outputId": "2d872663-57e3-4106-d311-34d5125f8643"
      },
      "execution_count": 204,
      "outputs": [
        {
          "output_type": "stream",
          "name": "stdout",
          "text": [
            "x:['T', 'c', 'a', 'c', 'a', 'b']\n",
            "True\n"
          ]
        }
      ]
    },
    {
      "cell_type": "code",
      "source": [
        "x = re.findall('[a-cP-Z]', s)\n",
        "check(x)"
      ],
      "metadata": {
        "colab": {
          "base_uri": "https://localhost:8080/"
        },
        "id": "FW_BP0odjquk",
        "outputId": "c69c47ae-1265-45c4-cac8-5fe65174d074"
      },
      "execution_count": 205,
      "outputs": [
        {
          "output_type": "stream",
          "name": "stdout",
          "text": [
            "x:['a', 'b', 'a', 'c', 'a', 'P']\n",
            "True\n"
          ]
        }
      ]
    },
    {
      "cell_type": "code",
      "source": [
        "num = ['[1934]', '(1945)', '1965-67', '1932-1940']\n",
        "for n in num:\n",
        "  x = re.findall('\\d[^193]', n)\n",
        "  check(x)"
      ],
      "metadata": {
        "colab": {
          "base_uri": "https://localhost:8080/"
        },
        "id": "2LG0ghlIkFKh",
        "outputId": "873b3d08-4cb3-4c1f-cad4-8931d2326ee3"
      },
      "execution_count": 206,
      "outputs": [
        {
          "output_type": "stream",
          "name": "stdout",
          "text": [
            "x:['34']\n",
            "True\n",
            "x:['94', '5)']\n",
            "True\n",
            "x:['96', '5-', '67']\n",
            "True\n",
            "x:['32', '94']\n",
            "True\n"
          ]
        }
      ]
    },
    {
      "cell_type": "code",
      "source": [
        "num = ['[1934]', '(1945)', '1965-67', '1932-1940']\n",
        "for n in num:\n",
        "  x = re.findall('\\d{4}', n)\n",
        "  check(x)"
      ],
      "metadata": {
        "colab": {
          "base_uri": "https://localhost:8080/"
        },
        "id": "1DrZJpqhlfGA",
        "outputId": "1a0487a2-cad2-4850-d4db-eb997cbe8e41"
      },
      "execution_count": 207,
      "outputs": [
        {
          "output_type": "stream",
          "name": "stdout",
          "text": [
            "x:['1934']\n",
            "True\n",
            "x:['1945']\n",
            "True\n",
            "x:['1965']\n",
            "True\n",
            "x:['1932', '1940']\n",
            "True\n"
          ]
        }
      ]
    },
    {
      "cell_type": "code",
      "source": [
        "num = ['[1934]', '(1945)', '1965-67', '1932-1940']\n",
        "for n in num:\n",
        "  x = re.findall('^\\d{4}', n)\n",
        "  check(x)"
      ],
      "metadata": {
        "colab": {
          "base_uri": "https://localhost:8080/"
        },
        "id": "Ho1a3pBtltzx",
        "outputId": "64b89c2a-1fed-46c7-ad22-3c42a1b535b4"
      },
      "execution_count": 208,
      "outputs": [
        {
          "output_type": "stream",
          "name": "stdout",
          "text": [
            "x:[]\n",
            "False\n",
            "x:[]\n",
            "False\n",
            "x:['1965']\n",
            "True\n",
            "x:['1932']\n",
            "True\n"
          ]
        }
      ]
    }
  ]
}